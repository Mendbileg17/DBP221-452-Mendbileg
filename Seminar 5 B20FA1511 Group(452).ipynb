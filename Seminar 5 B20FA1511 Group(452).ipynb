{
 "cells": [
  {
   "cell_type": "code",
   "execution_count": 56,
   "id": "e36c7089",
   "metadata": {
    "scrolled": true
   },
   "outputs": [
    {
     "name": "stdout",
     "output_type": "stream",
     "text": [
      "6\n",
      "* \n",
      "* * \n",
      "* * * \n",
      "* * * * \n",
      "* * * * * \n",
      "* * * * * * \n"
     ]
    }
   ],
   "source": [
    "#1 1. Гараас оруулсан n тоо хүртэл “*” тэмдэгтийг мөр бүрд хэвлэх функц бич.\n",
    "a = int(input())\n",
    "for i in range(a):\n",
    "    for j in range(i+1):\n",
    "        print('*', end=' ')\n",
    "    print()\n",
    "    "
   ]
  },
  {
   "cell_type": "code",
   "execution_count": 11,
   "id": "25e882b8",
   "metadata": {},
   "outputs": [
    {
     "name": "stdout",
     "output_type": "stream",
     "text": [
      "*  \r\n",
      "*  *  \r\n",
      "*  *  *  \r\n",
      "*  *  *  *  \r\n",
      "*  *  *  *  *  \r\n",
      "*  *  *  *  *  *  \r\n"
     ]
    }
   ],
   "source": [
    "#2 Гараас оруулсан n тоо хүртэл “*” тэмдэгтийг жагсаалтын мөр бүрд хэвлэх функц бич.\n",
    "def a(n):\n",
    "    for i in range(0, n):\n",
    "        for j in range(0, i+1):\n",
    "            print('* ', end=' ')\n",
    "        print(\"\\r\")\n",
    "a(6)    "
   ]
  },
  {
   "cell_type": "code",
   "execution_count": 26,
   "id": "a2614164",
   "metadata": {},
   "outputs": [
    {
     "name": "stdout",
     "output_type": "stream",
     "text": [
      "hamgiin ih utgatai key:  Oyun ,hamgiin ih utgatai:  Bat\n"
     ]
    }
   ],
   "source": [
    "#3 Дараах жагсаалтаас хамгийн их, хамгийн бага key-г авах функц бич.\n",
    "students = {\n",
    "'Bat': 18,\n",
    "'Oyun': 22,\n",
    "'Dulam': 21,\n",
    "'Suren' : 20\n",
    "}\n",
    "a = min(students, key = students.get)\n",
    "b = max(students, key = students.get)\n",
    "\n",
    "print('hamgiin ih utgatai key: ', b, \",\" 'hamgiin ih utgatai: ', a )\n"
   ]
  },
  {
   "cell_type": "code",
   "execution_count": 20,
   "id": "3af6e9b3",
   "metadata": {},
   "outputs": [
    {
     "name": "stdout",
     "output_type": "stream",
     "text": [
      "95\n"
     ]
    }
   ],
   "source": [
    "#4 np.arange(1-1000) массив үүсгэ. Тухайн массиваас 3 эсвэл 7 –д хуваагдах тоонуудын нийлбэрийг ол.\n",
    "import numpy as np\n",
    "a = np.arange(1,1001)\n",
    "b = ((a % 3 == 0) | a % 7 ==0)\n",
    "print(b.sum())"
   ]
  },
  {
   "cell_type": "code",
   "execution_count": null,
   "id": "f5921e18",
   "metadata": {},
   "outputs": [],
   "source": []
  }
 ],
 "metadata": {
  "kernelspec": {
   "display_name": "Python 3 (ipykernel)",
   "language": "python",
   "name": "python3"
  },
  "language_info": {
   "codemirror_mode": {
    "name": "ipython",
    "version": 3
   },
   "file_extension": ".py",
   "mimetype": "text/x-python",
   "name": "python",
   "nbconvert_exporter": "python",
   "pygments_lexer": "ipython3",
   "version": "3.9.7"
  }
 },
 "nbformat": 4,
 "nbformat_minor": 5
}
