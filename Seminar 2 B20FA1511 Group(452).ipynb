{
 "cells": [
  {
   "cell_type": "code",
   "execution_count": 6,
   "id": "9829e12f",
   "metadata": {},
   "outputs": [
    {
     "name": "stdout",
     "output_type": "stream",
     "text": [
      "End utga ugnu uu: madam\n",
      "Palindrome utga mun.\n"
     ]
    }
   ],
   "source": [
    "# Өгөгдсөн утга нь палиндром эсэхийг шалгах функц бич.\n",
    "a = input(\"End utga ugnu uu: \")\n",
    "w = \"\"\n",
    "for i in x:\n",
    "    w = i + w\n",
    "if (x == w):\n",
    "    print(\"Palindrome utga mun.\")\n",
    "else:\n",
    "    print(\"Palimdrome utga bish.\")\n",
    "    \n"
   ]
  },
  {
   "cell_type": "code",
   "execution_count": 13,
   "id": "bedf8ae2",
   "metadata": {},
   "outputs": [
    {
     "name": "stdout",
     "output_type": "stream",
     "text": [
      "End utga ugnu uu: UlaanBaatar\n",
      "tom usgiin too:  2\n",
      "jijig usgiin too:  9\n"
     ]
    }
   ],
   "source": [
    "#Өгөгдсөн жагсаалтаас том болон жижиг үсгүүдийг тоолох функц бич.\n",
    "str = input(\"End utga ugnu uu: \")\n",
    "tom = 0\n",
    "jijig = 0\n",
    "for i in range(len(str)):\n",
    "    if(str[i]>='a' and str[i]<='z'):\n",
    "        jijig = jijig + 1\n",
    "    elif(str[i]>='A' and str[i]<='Z'):\n",
    "         tom = tom + 1\n",
    "print('tom usgiin too: ', tom)\n",
    "print('jijig usgiin too: ', jijig)\n"
   ]
  },
  {
   "cell_type": "code",
   "execution_count": 19,
   "id": "fe381fea",
   "metadata": {},
   "outputs": [
    {
     "name": "stdout",
     "output_type": "stream",
     "text": [
      "40320\n"
     ]
    }
   ],
   "source": [
    "#Жагсаалтын утгуудын үржвэрийг олох функц бич.\n",
    "\n",
    "a = [1,2,3,4,5,6,7,8]\n",
    "\n",
    "def multiple():\n",
    "    i = 1\n",
    "    for num in a:\n",
    "        i = i*num\n",
    "    print(i)\n",
    "multiple()\n"
   ]
  },
  {
   "cell_type": "code",
   "execution_count": 57,
   "id": "88c108bc",
   "metadata": {},
   "outputs": [
    {
     "name": "stdout",
     "output_type": "stream",
     "text": [
      "Enter a number: 4\n",
      "The factorial of 4 is 24\n"
     ]
    }
   ],
   "source": [
    "#Өгөгдсөн тооны бактерал олох функц бич.\n",
    "\n",
    "a = int(input(\"Enter a number: \"))\n",
    "factorial = 1\n",
    "for i in range(1,num + 1):    \n",
    "    factorial = factorial*i    \n",
    "print(\"The factorial of\",num,\"is\",factorial)    \n",
    "\n",
    "\n",
    "    \n",
    "    "
   ]
  },
  {
   "cell_type": "code",
   "execution_count": 54,
   "id": "ea7bfe67",
   "metadata": {},
   "outputs": [
    {
     "name": "stdout",
     "output_type": "stream",
     "text": [
      "[8, 7, 6, 5, 4, 3, 2, 1]\n"
     ]
    }
   ],
   "source": [
    "#Өгөгдсөн жагсаалтыг урвуу болгох функц бич.\n",
    "\n",
    "a = [1,2,3,4,5,6,7,8]\n",
    "\n",
    "def reverse():\n",
    "    a.reverse()\n",
    "    print(a)\n",
    "    \n",
    "reverse()\n",
    "    "
   ]
  },
  {
   "cell_type": "code",
   "execution_count": 56,
   "id": "212371d7",
   "metadata": {},
   "outputs": [
    {
     "name": "stdout",
     "output_type": "stream",
     "text": [
      "89\n"
     ]
    }
   ],
   "source": [
    "#Жагсаалтын утгуудын нийлбэрийг олох функц бич.\n",
    "\n",
    "a = [1,2,3,4,5,67,7]\n",
    "\n",
    "def total():\n",
    "    vol = 0\n",
    "    for element in a:\n",
    "        vol = vol+element\n",
    "    print(vol)\n",
    "total()\n",
    "        "
   ]
  },
  {
   "cell_type": "code",
   "execution_count": 40,
   "id": "e81c0d05",
   "metadata": {},
   "outputs": [
    {
     "name": "stdout",
     "output_type": "stream",
     "text": [
      "{'ab', '1', '2', '3'}\n"
     ]
    }
   ],
   "source": [
    "#Жагсаалтын давхардсан утгуудыг арилгах функц бич\n",
    "\n",
    "a = ['1','2','2','3','ab','ab']\n",
    "def erase():\n",
    "    b = set(a)\n",
    "    print(b)\n",
    "erase()"
   ]
  },
  {
   "cell_type": "code",
   "execution_count": 17,
   "id": "d1be7d16",
   "metadata": {},
   "outputs": [
    {
     "name": "stdout",
     "output_type": "stream",
     "text": [
      "30\n"
     ]
    }
   ],
   "source": [
    "#3 тооны хамгийн ихийг олдог функц бич.\n",
    "def mx(a,b,c):\n",
    "    if (a>=b) and (a>=c):\n",
    "        max = a\n",
    "    elif (b>=a) and (b>=c):\n",
    "        max = b\n",
    "    else:\n",
    "        max = c\n",
    "    return max\n",
    "\n",
    "print(mx(10, 20, 30))"
   ]
  },
  {
   "cell_type": "code",
   "execution_count": null,
   "id": "b9fd5a26",
   "metadata": {},
   "outputs": [],
   "source": []
  }
 ],
 "metadata": {
  "kernelspec": {
   "display_name": "Python 3 (ipykernel)",
   "language": "python",
   "name": "python3"
  },
  "language_info": {
   "codemirror_mode": {
    "name": "ipython",
    "version": 3
   },
   "file_extension": ".py",
   "mimetype": "text/x-python",
   "name": "python",
   "nbconvert_exporter": "python",
   "pygments_lexer": "ipython3",
   "version": "3.9.7"
  }
 },
 "nbformat": 4,
 "nbformat_minor": 5
}
