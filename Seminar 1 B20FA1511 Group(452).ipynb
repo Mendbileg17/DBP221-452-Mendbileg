{
 "cells": [
  {
   "cell_type": "code",
   "execution_count": 52,
   "id": "71b139dd",
   "metadata": {},
   "outputs": [
    {
     "name": "stdout",
     "output_type": "stream",
     "text": [
      "1-р ажил:\n",
      "python\n",
      "php\n",
      "java\n"
     ]
    }
   ],
   "source": [
    "#1. Жагсаалтад 'python', 'php', 'java' гэсэн утгуудыг хадгал. Жагсаалт дахь байрлалыг ашиглан эдгээр утга бүрийг хэвлэ.\n",
    "print('1-р ажил:')\n",
    "\n",
    "list1=['python', 'php', 'java']\n",
    "for element in list1:\n",
    "    print(element)"
   ]
  },
  {
   "cell_type": "code",
   "execution_count": 53,
   "id": "d1c8e2b8",
   "metadata": {},
   "outputs": [
    {
     "name": "stdout",
     "output_type": "stream",
     "text": [
      "2-р ажил:\n",
      "55\n"
     ]
    }
   ],
   "source": [
    "#2. 10 гишүүн бүхий тоон жагсаалт үүсгэ. Жагсаалтын нийлбэрийг давталт ашиглан хэвлэ.\n",
    "print('2-р ажил:')\n",
    "\n",
    "list2=[1, 2, 3, 4, 5, 6, 7, 8, 9, 10]\n",
    "i = 0\n",
    "for element in list2:\n",
    "\ti = i + element \n",
    "print(i)"
   ]
  },
  {
   "cell_type": "code",
   "execution_count": 54,
   "id": "35af0ebb",
   "metadata": {},
   "outputs": [
    {
     "name": "stdout",
     "output_type": "stream",
     "text": [
      "3-р ажил:\n",
      "120\n"
     ]
    }
   ],
   "source": [
    "#3. 5 гишүүн бүхий тоон жагсаалт үүсгэ.Жагсаалтын гишүүдийн үржвэрийг хэвлэх функц бич. Үр дүнг хэвлэ.\n",
    "print('3-р ажил:')\n",
    "\n",
    "list3=[1,2,3,4,5]\n",
    "def mutiple():\n",
    "\ti = 1 \n",
    "\tfor element in list3:\n",
    "\t\ti = i*element\n",
    "\tprint(i)\n",
    "\n",
    "mutiple()"
   ]
  },
  {
   "cell_type": "code",
   "execution_count": 55,
   "id": "9dd4906b",
   "metadata": {},
   "outputs": [
    {
     "name": "stdout",
     "output_type": "stream",
     "text": [
      "4-р ажил:\n",
      "27\n"
     ]
    }
   ],
   "source": [
    "#4. Өгөгдсөн тоон жагсаалтын 3 дахь элементийг сүүлийн сүүлийн элементтэй үржүүлэн үр дүнг буцаадаг функц бич.\n",
    "print('4-р ажил:')\n",
    "\n",
    "list4 = [1,2,3,4,5,6,7,8,9]\n",
    "a=list4[2]\n",
    "b=list4[-1]\n",
    "def lastdigit():\n",
    "\tprint(a*b)\n",
    "\n",
    "lastdigit()\n"
   ]
  },
  {
   "cell_type": "code",
   "execution_count": 56,
   "id": "d6353ff7",
   "metadata": {
    "scrolled": true
   },
   "outputs": [
    {
     "name": "stdout",
     "output_type": "stream",
     "text": [
      "5-р ажил:\n",
      "hamgiin ih utga ni: 9\n",
      "hamgiinh baga ugta ni: 1\n"
     ]
    }
   ],
   "source": [
    "#5. Өгөгдсөн тоон жагсаалтаас хамгийн их болон хамгийн бага утгуудыг буцаах функц бич. Үр дүнг хэвлэ.\n",
    "print('5-р ажил:')\n",
    "\n",
    "list5 = [1,2,3,4,5,6,7,8,9]\n",
    "\n",
    "def list_return():\n",
    "    min_utga = min(list5)\n",
    "    max_utga = max(list5)\n",
    "    print('hamgiin ih utga ni:', max_utga)\n",
    "    print('hamgiinh baga ugta ni:', min_utga)\n",
    "    \n",
    "list_return()\n"
   ]
  },
  {
   "cell_type": "code",
   "execution_count": 57,
   "id": "e64ca85c",
   "metadata": {},
   "outputs": [
    {
     "name": "stdout",
     "output_type": "stream",
     "text": [
      "6-р ажил:\n",
      "6\n"
     ]
    }
   ],
   "source": [
    "#6. Өгөгдсөн жагсаалтаас хоёроос дээш оронтой, эхний болон төгсгөлийн тэмдэгтүүд нь хоорондоо адилхан гишүүн хэд байгааг тоолох функц бич.\n",
    "#Жишээ: Оролт [abdba, abcd, 121 ], Гаралт 2\n",
    "print('6-р ажил:')\n",
    "\n",
    "list6 = ['abba', 'tenet','kgkg', '505', '101', '101', '104', '1004', '1001']\n",
    "\n",
    "def match(list6):\n",
    "    a = 0\n",
    "    for element in list6:\n",
    "        if len(element) > 1 and element[0] == element[-1]:\n",
    "            a += 1\n",
    "    return a \n",
    "b = match(list6)\n",
    "print(b)\n"
   ]
  },
  {
   "cell_type": "code",
   "execution_count": 58,
   "id": "9de896e1",
   "metadata": {},
   "outputs": [
    {
     "name": "stdout",
     "output_type": "stream",
     "text": [
      "7-р ажил:\n",
      "['abba', '505', '1004', '104', 'kgkg', 'tenet', '1001', '101']\n"
     ]
    }
   ],
   "source": [
    "#7. Өгөгдсөн жагсаалтаас давхардсан утгуудыг арилгаж, хэвлэ.\n",
    "#Жишээ: Оролт [abdba, abcd, 121, 121, abcd ], Гаралт [abdba, abcd, 121 ]\n",
    "print('7-р ажил:')\n",
    "\n",
    "list7 = ['abba', 'tenet','kgkg', '505', '101', '101', '104', '1004', '1001']\n",
    "new_list7 = set(list7)\n",
    "print(list(new_list7))\n"
   ]
  },
  {
   "cell_type": "code",
   "execution_count": 59,
   "id": "bebd2aa9",
   "metadata": {},
   "outputs": [
    {
     "name": "stdout",
     "output_type": "stream",
     "text": [
      "8-р ажил:\n",
      "list hooson bish baina.\n",
      "None\n"
     ]
    }
   ],
   "source": [
    "#8. Жагсаалт хоосон эсэхийг шалгах функц бич. Үр дүнг хэвлэ.\n",
    "print('8-р ажил:')\n",
    "\n",
    "list8 = ['abba', 'tenet','kgkg', '505', '101', '101', '104']\n",
    "\n",
    "def empty(list8):\n",
    "    if len(list8) > 0:\n",
    "        print('list hooson bish baina.')\n",
    "    elif len(list8) == 0:\n",
    "        print('list hoosn baina.')\n",
    "        \n",
    "a = empty(list8)\n",
    "print(a)"
   ]
  },
  {
   "cell_type": "code",
   "execution_count": 60,
   "id": "58269896",
   "metadata": {},
   "outputs": [
    {
     "name": "stdout",
     "output_type": "stream",
     "text": [
      "9-р ажил:\n",
      "[1, 2, 3, 4, 6, 9, 10]\n"
     ]
    }
   ],
   "source": [
    " #9. 10 гишүүн бүхий жагсаалтын 4, 6, 8 дахь гишүүдийг устгаж, хэвлэ.\n",
    "print('9-р ажил:')\n",
    "list9 = [1,2,3,4,5,6,7,8,9,10]\n",
    "del(list9[4])\n",
    "del(list9[5])\n",
    "del(list9[-3])\n",
    "\n",
    "print(list9)"
   ]
  },
  {
   "cell_type": "code",
   "execution_count": 61,
   "id": "42c46a16",
   "metadata": {
    "scrolled": true
   },
   "outputs": [
    {
     "name": "stdout",
     "output_type": "stream",
     "text": [
      "10-р ажил:\n",
      "(1, 2, 3, 4, 5, 6, 7, 8, 9, 10)\n"
     ]
    }
   ],
   "source": [
    "#10. Тоон гишүүн бүхий tuple үүсгэ.\n",
    "print('10-р ажил:')\n",
    "tuplex = 1, 2, 3, 4, 5, 6, 7, 8, 9, 10\n",
    "print(tuplex)"
   ]
  },
  {
   "cell_type": "code",
   "execution_count": 62,
   "id": "b96aad3b",
   "metadata": {},
   "outputs": [
    {
     "name": "stdout",
     "output_type": "stream",
     "text": [
      "11-р ажил:\n",
      "(1, 2, 3, 4, 5, 6, 7, 8, 9, 10, 11, 12, 13, 14)\n"
     ]
    }
   ],
   "source": [
    "#11. Tuple –д гишүүн нэмэх програм бич.\n",
    "print('11-р ажил:')\n",
    "\n",
    "list11 = (1, 2, 3, 4, 5, 6, 7, 8, 9, 10)\n",
    "list11 = list(list11)\n",
    "list11.extend([11,12,13,14])\n",
    "list11 = tuple(list11)\n",
    "print(list11)\n"
   ]
  },
  {
   "cell_type": "code",
   "execution_count": 63,
   "id": "3b2e3338",
   "metadata": {},
   "outputs": [
    {
     "name": "stdout",
     "output_type": "stream",
     "text": [
      "12-р ажил:\n",
      "2 dahi element: 2\n",
      "araasaa 2 dahi element: 13\n"
     ]
    }
   ],
   "source": [
    "#12. Tuple –ийн 2 дахь элемент болон араасаа 2 дахь элементийг хэвлэ.\n",
    "print('12-р ажил:')\n",
    "list12 = (1, 2, 3, 4, 5, 6, 7, 8, 9, 10)\n",
    "print('2 dahi element:', list11[1])\n",
    "print('araasaa 2 dahi element:', list11[-2])"
   ]
  },
  {
   "cell_type": "code",
   "execution_count": 92,
   "id": "b3711ec0",
   "metadata": {},
   "outputs": [
    {
     "name": "stdout",
     "output_type": "stream",
     "text": [
      "13-р ажил:\n",
      "ymr negen utga oruulna uu: 2\n",
      "oruulsan utga set-d baina.\n"
     ]
    }
   ],
   "source": [
    "#13. Tuple –д гараас оруулсан утга байгаа эсэхийг шалгах програм бич.\n",
    "print('13-р ажил:')\n",
    "\n",
    "set13 = ('1', '2', 'aba', '4', '5', '6', '7', '8')\n",
    "utga = input('ymr negen utga oruulna uu: ')\n",
    "if utga in set13:\n",
    "    print('oruulsan utga set-d baina.')\n",
    "else:\n",
    "    print('oruulsan utga set-d baihgui.')\n",
    "\n"
   ]
  },
  {
   "cell_type": "code",
   "execution_count": 82,
   "id": "8d5e0554",
   "metadata": {},
   "outputs": [
    {
     "name": "stdout",
     "output_type": "stream",
     "text": [
      "14-р ажил:\n",
      "1\n",
      "2\n",
      "3\n",
      "4\n",
      "5\n",
      "6\n",
      "7\n",
      "8\n",
      "9\n",
      "10\n"
     ]
    }
   ],
   "source": [
    "#14. Өгөгдсөн Tuple –ийн бүх гишүүдийг давталт ашиглан хэвлэ.\n",
    "print('14-р ажил:')\n",
    "\n",
    "list14 = (1, 2, 3, 4, 5, 6, 7, 8, 9, 10)\n",
    "for element in list14:\n",
    "    print(element)"
   ]
  },
  {
   "cell_type": "code",
   "execution_count": 66,
   "id": "153c2170",
   "metadata": {},
   "outputs": [
    {
     "name": "stdout",
     "output_type": "stream",
     "text": [
      "15-р ажил:\n",
      "{1, 2, 3, 4, 5, 6, 7, 'banana', 'cherry'}\n"
     ]
    }
   ],
   "source": [
    "#15. 2 төрлийн set үүсгэн хооронд нь нэгтгэх програм бич.\n",
    "print('15-р ажил:')\n",
    "def negdel():\n",
    "    set15 = {1,2,3,4,5,6,7}\n",
    "    set15_1 = {'banana', 'cherry'}\n",
    "    negdel = set.union(set15, set15_1)\n",
    "    print(negdel)\n",
    "    \n",
    "negdel()\n"
   ]
  },
  {
   "cell_type": "code",
   "execution_count": 67,
   "id": "0477730b",
   "metadata": {},
   "outputs": [
    {
     "name": "stdout",
     "output_type": "stream",
     "text": [
      "16-р ажил:\n",
      "2 turliin set-d ali alind ni baigaa ugta: {'5', '8', '4', 'aba'}\n"
     ]
    }
   ],
   "source": [
    "#16. 2 төрлийн set үүсгэн аль алинд байгаа утгыг олох програм бич.\n",
    "print('16-р ажил:')\n",
    "set16_1 = {'1', '2', 'aba', '4', '5', '6', '7', '8'}\n",
    "set16_2 = {'4', '5', '8', '9', '3', '10', 'aba', '8'}\n",
    "\n",
    "def intersection ():\n",
    "    print('2 turliin set-d ali alind ni baigaa ugta:', set16_1 & set16_2)\n",
    "    \n",
    "intersection()"
   ]
  },
  {
   "cell_type": "code",
   "execution_count": 68,
   "id": "1be80477",
   "metadata": {},
   "outputs": [
    {
     "name": "stdout",
     "output_type": "stream",
     "text": [
      "17-р ажил:\n",
      "9\n"
     ]
    }
   ],
   "source": [
    "#17. Өгөгдсөн set-ийн уртыг ол.\n",
    "print('17-р ажил:')\n",
    "\n",
    "set17 = {1, 2, 3, 4, 5, 6, 7, 'cherry', 'banana'}\n",
    "print(len(set17))"
   ]
  },
  {
   "cell_type": "code",
   "execution_count": 94,
   "id": "c5892879",
   "metadata": {},
   "outputs": [
    {
     "name": "stdout",
     "output_type": "stream",
     "text": [
      "18-р ажил:\n",
      "set18-d baigaa 1-10 hoorond utga oruulna uu:1\n",
      "{'3', '8', '5', '2', '10', '9', '6', '7', '4'}\n"
     ]
    }
   ],
   "source": [
    "#18. Өгөгдсөн set-ээс гараас оруулсан утгыг устга.\n",
    "print('18-р ажил:')\n",
    "\n",
    "\n",
    "set18 = {'1', '2', '3', '4', '5', '6', '7', '8', '9', '10'}\n",
    "\n",
    "set18.remove(input('set18-d baigaa 1-10 hoorond utga oruulna uu:'))\n",
    "print(set18)\n"
   ]
  },
  {
   "cell_type": "code",
   "execution_count": 70,
   "id": "6f3d27db",
   "metadata": {},
   "outputs": [
    {
     "name": "stdout",
     "output_type": "stream",
     "text": [
      "19-р ажил:\n",
      "set()\n"
     ]
    }
   ],
   "source": [
    "#19. Өгөгдсөн set-ийн бүх утгыг устга.\n",
    "print('19-р ажил:')\n",
    "\n",
    "set19 = {1, 2, 3, 4, 5, 6, 7, 'cherry', 'banana'}\n",
    "set19.clear()\n",
    "print(set19)"
   ]
  },
  {
   "cell_type": "code",
   "execution_count": 71,
   "id": "55881ea1",
   "metadata": {},
   "outputs": [
    {
     "name": "stdout",
     "output_type": "stream",
     "text": [
      "20-р ажил:\n"
     ]
    }
   ],
   "source": [
    "#20. Өгөгдсөн set-ийг устга.\n",
    "print('20-р ажил:')\n",
    "set19 = {1, 2, 3, 4, 5, 6, 7, 'cherry', 'banana'}\n",
    "del set19"
   ]
  },
  {
   "cell_type": "code",
   "execution_count": 107,
   "id": "9acb5cdb",
   "metadata": {},
   "outputs": [
    {
     "name": "stdout",
     "output_type": "stream",
     "text": [
      "21-р ажил:\n",
      "value utgaar ni key-g ihees baga ruu [2, 5, 10]\n",
      "key utgaar ni value-g bagaas ih ruu [(2, 3), (5, 4), (10, 2)]\n"
     ]
    }
   ],
   "source": [
    "#21. Key, value нь тоон утга бүхий dictionary үүсгэж өсөх болон буурахаар эрэмбэл.\n",
    "print('21-р ажил:')\n",
    "\n",
    "dict21 = { \n",
    "    10 : 2,\n",
    "    2 : 3,\n",
    "    5 : 4,\n",
    "}\n",
    "\n",
    "print('value utgaar ni key-g ihees baga ruu', sorted(dict21))\n",
    "print('key utgaar ni value-g bagaas ih ruu', sorted(dict21.items()))\n",
    "\n"
   ]
  },
  {
   "cell_type": "code",
   "execution_count": 126,
   "id": "6fec6ce9",
   "metadata": {},
   "outputs": [
    {
     "name": "stdout",
     "output_type": "stream",
     "text": [
      "22-р ажил:\n",
      "utga oruulna uu: 10\n",
      "tanii oruusan utga baina.\n"
     ]
    }
   ],
   "source": [
    "#22. Өгөгдсөн key нь dictionary –д байгаа эсэхийг шалгах програм бич.\n",
    "print('22-р ажил:')\n",
    "\n",
    "dict22 = { \n",
    "    '10' : 2,\n",
    "    '2' : 3,\n",
    "    '5' : 4,\n",
    "}\n",
    "\n",
    "ugta = input('utga oruulna uu: ')\n",
    "a = dict22.keys()\n",
    "\n",
    "if utga in a:\n",
    "    print('tanii oruusan utga baina.')\n",
    "else:\n",
    "    print('tanii oruulsn utga baihui baina')\n"
   ]
  },
  {
   "cell_type": "code",
   "execution_count": 127,
   "id": "7aa9b87b",
   "metadata": {},
   "outputs": [
    {
     "name": "stdout",
     "output_type": "stream",
     "text": [
      "23-р ажил:\n",
      "utga oruulna uu: 4\n",
      "tanii oruusan utga baina.\n"
     ]
    }
   ],
   "source": [
    "#23. Өгөгдсөн value нь dictionary –д байгаа эсэхийг шалгах програм бич.\n",
    "print('23-р ажил:')\n",
    "\n",
    "dict23 = { \n",
    "    '10' : '2',\n",
    "    '2' : '3',\n",
    "    '5' : '4',\n",
    "}\n",
    "\n",
    "ugta = input('utga oruulna uu: ')\n",
    "a = dict22.values()\n",
    "\n",
    "if utga in a:\n",
    "    print('tanii oruusan utga baina.')\n",
    "else:\n",
    "    print('tanii oruulsn utga baihui baina')"
   ]
  },
  {
   "cell_type": "code",
   "execution_count": 130,
   "id": "63e45751",
   "metadata": {},
   "outputs": [
    {
     "name": "stdout",
     "output_type": "stream",
     "text": [
      "24-р ажил:\n",
      "10  :  2\n",
      "2  :  3\n",
      "5  :  4\n"
     ]
    }
   ],
   "source": [
    "#24. For давталт ашиглан dictionary –ийн key, value –г хэвлэх програм бич.\n",
    "print('24-р ажил:')\n",
    "\n",
    "dict24 = { \n",
    "    '10' : '2',\n",
    "    '2' : '3',\n",
    "    '5' : '4',\n",
    "}\n",
    "for key, value in dict24.items():\n",
    "    print(key, ' : ', value)"
   ]
  },
  {
   "cell_type": "code",
   "execution_count": 134,
   "id": "41da5960",
   "metadata": {},
   "outputs": [
    {
     "name": "stdout",
     "output_type": "stream",
     "text": [
      "25-р ажил:\n",
      "{'10': '2', '2': '3', '5': '4', 'bat': 17, 'mendee': 20, 'sod': 5}\n"
     ]
    }
   ],
   "source": [
    "#25. Хоёр dictionary үүсгэж хооронд нь нэгтгэ.\n",
    "print('25-р ажил:')\n",
    "\n",
    "dict25_1 = { \n",
    "    '10' : '2',\n",
    "    '2' : '3',\n",
    "    '5' : '4',\n",
    "}\n",
    "dict25_2 = {\n",
    "    'bat' : 17,\n",
    "    'mendee' : 20,\n",
    "    'sod' : 5,\n",
    "}\n",
    "union = dict(dict25_1,**dict25_2)\n",
    "print(union)"
   ]
  },
  {
   "cell_type": "code",
   "execution_count": 138,
   "id": "18da528f",
   "metadata": {},
   "outputs": [
    {
     "name": "stdout",
     "output_type": "stream",
     "text": [
      "26-р ажил:\n"
     ]
    },
    {
     "data": {
      "text/plain": [
       "42"
      ]
     },
     "execution_count": 138,
     "metadata": {},
     "output_type": "execute_result"
    }
   ],
   "source": [
    "#26. Dictionary –д байгаа value хооронд нь нэмэх програм бич.\n",
    "print('26-р ажил:')\n",
    "\n",
    "dict26 = {\n",
    "    'bat' : 17,\n",
    "    'mendee' : 20,\n",
    "    'sod' : 5,\n",
    "}\n",
    "\n",
    "    \n",
    "def sum_value(dict26):\n",
    "    list = []\n",
    "    for element in dict26:\n",
    "        list.append(dict26[element])\n",
    "    final = sum(list)\n",
    "    return final\n",
    "\n",
    "sum_value(dict26)"
   ]
  },
  {
   "cell_type": "code",
   "execution_count": null,
   "id": "8ad94fd2",
   "metadata": {},
   "outputs": [],
   "source": []
  }
 ],
 "metadata": {
  "kernelspec": {
   "display_name": "Python 3 (ipykernel)",
   "language": "python",
   "name": "python3"
  },
  "language_info": {
   "codemirror_mode": {
    "name": "ipython",
    "version": 3
   },
   "file_extension": ".py",
   "mimetype": "text/x-python",
   "name": "python",
   "nbconvert_exporter": "python",
   "pygments_lexer": "ipython3",
   "version": "3.9.7"
  }
 },
 "nbformat": 4,
 "nbformat_minor": 5
}
